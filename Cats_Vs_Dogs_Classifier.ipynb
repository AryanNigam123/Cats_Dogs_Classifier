{
  "nbformat": 4,
  "nbformat_minor": 0,
  "metadata": {
    "colab": {
      "provenance": []
    },
    "kernelspec": {
      "name": "python3",
      "display_name": "Python 3"
    },
    "language_info": {
      "name": "python"
    }
  },
  "cells": [
    {
      "cell_type": "code",
      "execution_count": 12,
      "metadata": {
        "id": "UJENqkHuk7XM"
      },
      "outputs": [],
      "source": [
        "# import Libraries\n",
        "\n",
        "import pandas as pd\n",
        "import numpy as np\n",
        "import matplotlib.pyplot as plt\n",
        "import os\n",
        "import torch as torch\n",
        "import torch.nn as nn\n",
        "import torch.optim as otptim\n",
        "import random\n",
        "from PIL import Image\n",
        "from torch.utils.data import Dataset , DataLoader\n",
        "\n",
        "# Cofig.\n",
        "\n",
        "DATA_DIR = \"data/train\"\n",
        "BATCH_SIZE = 32\n",
        "IMAGE = 64\n",
        "EPOCHS = 10\n",
        "DEVICE = torch.device('cuda' if torch.cuda.is_available() else 'cpu')\n",
        "MODEL_PATH = \"model_cats_dogs.pth\"\n",
        "\n",
        "class CatsDogsDataset(Dataset):\n",
        "  def __init__(self,root_dir,augment=False):\n",
        "    self.img_path = []\n",
        "    self.labels = []\n",
        "    self.augment = augment\n",
        "\n",
        "    for label , folder in enumerate(['cats' , 'dog']):\n",
        "      folder_path = os.path.join(root_dir , folder)\n",
        "      for file in os.listdir(folder_path):\n",
        "        if file.lower().endswith((\".jpg\", \".jpeg\", \".png\")):\n",
        "           self.img_paths.append(os.path.join(folder_path, file))\n",
        "           self.labels.append(label)\n",
        "\n",
        "\n",
        "  def __len__(self):\n",
        "        return len(self.img_paths)\n"
      ]
    }
  ]
}